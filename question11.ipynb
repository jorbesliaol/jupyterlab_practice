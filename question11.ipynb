{
 "cells": [
  {
   "cell_type": "markdown",
   "id": "0da19ad0-5395-405e-b297-601612b4acd0",
   "metadata": {},
   "source": [
    "# Xin Li\n",
    "Notebook for assignment 7"
   ]
  },
  {
   "cell_type": "code",
   "execution_count": 1,
   "id": "066edf80-d47e-4cdd-8478-21d217d8cab6",
   "metadata": {},
   "outputs": [
    {
     "name": "stdout",
     "output_type": "stream",
     "text": [
      "5.0\n"
     ]
    }
   ],
   "source": [
    "def compute_mean(numbers):\n",
    "    \"\"\"\n",
    "    Compute the mean of a list of numbers.\n",
    "    \n",
    "    Parameters:\n",
    "    numbers (list): A list of numerical values\n",
    "    \n",
    "    Returns:\n",
    "    float: The mean of the numbers\n",
    "    \"\"\"\n",
    "    mean_value = sum(numbers) / len(numbers)\n",
    "    print(mean_value)\n",
    "\n",
    "# Call the function\n",
    "compute_mean([2, 4, 6, 8])\n"
   ]
  },
  {
   "cell_type": "markdown",
   "id": "434ff47b-dae9-4235-812d-3acf249bb7bc",
   "metadata": {},
   "source": [
    "## Explanation\n",
    "\n",
    "The function `compute_mean` calculates the arithmetic mean by summing all the values in the list and dividing by the number of values.\n",
    "\n",
    "The formula for the mean is:\n",
    "\n",
    "\\[\n",
    "\\bar{x} = \\frac{1}{n} \\sum_{i=1}^{n} x_i\n",
    "\\]\n",
    "\n",
    "Alternatively, it can also be expressed as:\n",
    "\n",
    "\\[\n",
    "\\bar{x} = \\frac{x_1 + x_2 + ... + x_n}{n}\n",
    "\\]\n",
    "\n",
    "where:\n",
    "- \\( \\bar{x} \\) is the mean,\n",
    "- \\( n \\) is the number of elements,\n",
    "- \\( x_i \\) represents each element in the dataset.\n"
   ]
  },
  {
   "cell_type": "code",
   "execution_count": null,
   "id": "1c49ac15-eee7-4b9a-9162-e1e5d7f5ee28",
   "metadata": {},
   "outputs": [],
   "source": []
  }
 ],
 "metadata": {
  "kernelspec": {
   "display_name": "Python [conda env:base] *",
   "language": "python",
   "name": "conda-base-py"
  },
  "language_info": {
   "codemirror_mode": {
    "name": "ipython",
    "version": 3
   },
   "file_extension": ".py",
   "mimetype": "text/x-python",
   "name": "python",
   "nbconvert_exporter": "python",
   "pygments_lexer": "ipython3",
   "version": "3.12.3"
  }
 },
 "nbformat": 4,
 "nbformat_minor": 5
}
